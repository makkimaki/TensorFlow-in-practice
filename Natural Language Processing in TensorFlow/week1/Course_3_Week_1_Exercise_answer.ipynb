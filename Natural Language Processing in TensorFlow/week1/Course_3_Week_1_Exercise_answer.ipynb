{
  "nbformat": 4,
  "nbformat_minor": 0,
  "metadata": {
    "colab": {
      "name": "Course 3 - Week 1 - Exercise-answer.ipynb のコピー",
      "provenance": [],
      "collapsed_sections": []
    },
    "kernelspec": {
      "display_name": "Python 3",
      "name": "python3"
    }
  },
  "cells": [
    {
      "cell_type": "markdown",
      "metadata": {
        "colab_type": "text",
        "id": "rX8mhOLljYeM"
      },
      "source": [
        "##### Copyright 2019 The TensorFlow Authors."
      ]
    },
    {
      "cell_type": "code",
      "metadata": {
        "cellView": "form",
        "colab_type": "code",
        "id": "BZSlp3DAjdYf",
        "colab": {}
      },
      "source": [
        "#@title Licensed under the Apache License, Version 2.0 (the \"License\");\n",
        "# you may not use this file except in compliance with the License.\n",
        "# You may obtain a copy of the License at\n",
        "#\n",
        "# https://www.apache.org/licenses/LICENSE-2.0\n",
        "#\n",
        "# Unless required by applicable law or agreed to in writing, software\n",
        "# distributed under the License is distributed on an \"AS IS\" BASIS,\n",
        "# WITHOUT WARRANTIES OR CONDITIONS OF ANY KIND, either express or implied.\n",
        "# See the License for the specific language governing permissions and\n",
        "# limitations under the License."
      ],
      "execution_count": null,
      "outputs": []
    },
    {
      "cell_type": "code",
      "metadata": {
        "colab_type": "code",
        "id": "zrZevCPJ92HG",
        "colab": {
          "base_uri": "https://localhost:8080/",
          "height": 204
        },
        "outputId": "df3d598d-f67a-47f7-dae5-0ea2b8a18d5e"
      },
      "source": [
        "!wget --no-check-certificate \\\n",
        "    https://storage.googleapis.com/laurencemoroney-blog.appspot.com/bbc-text.csv \\\n",
        "    -O /tmp/bbc-text.csv\n",
        "\n",
        "  \n",
        "import csv\n",
        "from tensorflow.keras.preprocessing.text import Tokenizer\n",
        "from tensorflow.keras.preprocessing.sequence import pad_sequences\n",
        "\n",
        "\n",
        "\n",
        "#Stopwords list from https://github.com/Yoast/YoastSEO.js/blob/develop/src/config/stopwords.js\n",
        "stopwords = [ \"a\", \"about\", \"above\", \"after\", \"again\", \"against\", \"all\", \"am\", \"an\", \"and\", \"any\", \"are\", \"as\", \"at\", \"be\", \"because\", \"been\", \"before\", \"being\", \"below\", \"between\", \"both\", \"but\", \"by\", \"could\", \"did\", \"do\", \"does\", \"doing\", \"down\", \"during\", \"each\", \"few\", \"for\", \"from\", \"further\", \"had\", \"has\", \"have\", \"having\", \"he\", \"he'd\", \"he'll\", \"he's\", \"her\", \"here\", \"here's\", \"hers\", \"herself\", \"him\", \"himself\", \"his\", \"how\", \"how's\", \"i\", \"i'd\", \"i'll\", \"i'm\", \"i've\", \"if\", \"in\", \"into\", \"is\", \"it\", \"it's\", \"its\", \"itself\", \"let's\", \"me\", \"more\", \"most\", \"my\", \"myself\", \"nor\", \"of\", \"on\", \"once\", \"only\", \"or\", \"other\", \"ought\", \"our\", \"ours\", \"ourselves\", \"out\", \"over\", \"own\", \"same\", \"she\", \"she'd\", \"she'll\", \"she's\", \"should\", \"so\", \"some\", \"such\", \"than\", \"that\", \"that's\", \"the\", \"their\", \"theirs\", \"them\", \"themselves\", \"then\", \"there\", \"there's\", \"these\", \"they\", \"they'd\", \"they'll\", \"they're\", \"they've\", \"this\", \"those\", \"through\", \"to\", \"too\", \"under\", \"until\", \"up\", \"very\", \"was\", \"we\", \"we'd\", \"we'll\", \"we're\", \"we've\", \"were\", \"what\", \"what's\", \"when\", \"when's\", \"where\", \"where's\", \"which\", \"while\", \"who\", \"who's\", \"whom\", \"why\", \"why's\", \"with\", \"would\", \"you\", \"you'd\", \"you'll\", \"you're\", \"you've\", \"your\", \"yours\", \"yourself\", \"yourselves\" ]\n"
      ],
      "execution_count": 1,
      "outputs": [
        {
          "output_type": "stream",
          "text": [
            "--2020-08-12 12:36:24--  https://storage.googleapis.com/laurencemoroney-blog.appspot.com/bbc-text.csv\n",
            "Resolving storage.googleapis.com (storage.googleapis.com)... 74.125.142.128, 74.125.195.128, 2607:f8b0:400e:c08::80, ...\n",
            "Connecting to storage.googleapis.com (storage.googleapis.com)|74.125.142.128|:443... connected.\n",
            "HTTP request sent, awaiting response... 200 OK\n",
            "Length: 5057493 (4.8M) [application/octet-stream]\n",
            "Saving to: ‘/tmp/bbc-text.csv’\n",
            "\n",
            "\r/tmp/bbc-text.csv     0%[                    ]       0  --.-KB/s               \r/tmp/bbc-text.csv   100%[===================>]   4.82M  --.-KB/s    in 0.09s   \n",
            "\n",
            "2020-08-12 12:36:25 (51.6 MB/s) - ‘/tmp/bbc-text.csv’ saved [5057493/5057493]\n",
            "\n"
          ],
          "name": "stdout"
        }
      ]
    },
    {
      "cell_type": "code",
      "metadata": {
        "colab_type": "code",
        "id": "1rmYBjsyCv3K",
        "colab": {
          "base_uri": "https://localhost:8080/",
          "height": 71
        },
        "outputId": "6c4150c9-ba50-45d6-e068-4fa5c198ae30"
      },
      "source": [
        "sentences = []\n",
        "labels = []\n",
        "with open(\"/tmp/bbc-text.csv\", 'r') as csvfile:\n",
        "    reader = csv.reader(csvfile, delimiter=',')\n",
        "    next(reader)\n",
        "    for row in reader:\n",
        "        labels.append(row[0])\n",
        "        sentence = row[1]\n",
        "        for word in stopwords:\n",
        "            token = \" \" + word + \" \"\n",
        "            sentence = sentence.replace(token, \" \")\n",
        "            sentence = sentence.replace(\"  \", \" \") ##??? in case there were no 'word'...???\n",
        "        sentences.append(sentence)\n",
        "\n",
        "\n",
        "print(len(sentences))\n",
        "print(sentences[0])\n",
        "\n",
        "#Expected output\n",
        "# 2225\n",
        "# tv future hands viewers home theatre systems plasma high-definition tvs digital video recorders moving living room way people watch tv will radically different five years time. according expert panel gathered annual consumer electronics show las vegas discuss new technologies will impact one favourite pastimes. us leading trend programmes content will delivered viewers via home networks cable satellite telecoms companies broadband service providers front rooms portable devices. one talked-about technologies ces digital personal video recorders (dvr pvr). set-top boxes like us s tivo uk s sky+ system allow people record store play pause forward wind tv programmes want. essentially technology allows much personalised tv. also built-in high-definition tv sets big business japan us slower take off europe lack high-definition programming. not can people forward wind adverts can also forget abiding network channel schedules putting together a-la-carte entertainment. us networks cable satellite companies worried means terms advertising revenues well brand identity viewer loyalty channels. although us leads technology moment also concern raised europe particularly growing uptake services like sky+. happens today will see nine months years time uk adam hume bbc broadcast s futurologist told bbc news website. likes bbc no issues lost advertising revenue yet. pressing issue moment commercial uk broadcasters brand loyalty important everyone. will talking content brands rather network brands said tim hanlon brand communications firm starcom mediavest. reality broadband connections anybody can producer content. added: challenge now hard promote programme much choice. means said stacey jolna senior vice president tv guide tv group way people find content want watch simplified tv viewers. means networks us terms channels take leaf google s book search engine future instead scheduler help people find want watch. kind channel model might work younger ipod generation used taking control gadgets play them. might not suit everyone panel recognised. older generations comfortable familiar schedules channel brands know getting. perhaps not want much choice put hands mr hanlon suggested. end kids just diapers pushing buttons already - everything possible available said mr hanlon. ultimately consumer will tell market want. 50 000 new gadgets technologies showcased ces many enhancing tv-watching experience. high-definition tv sets everywhere many new models lcd (liquid crystal display) tvs launched dvr capability built instead external boxes. one example launched show humax s 26-inch lcd tv 80-hour tivo dvr dvd recorder. one us s biggest satellite tv companies directtv even launched branded dvr show 100-hours recording capability instant replay search function. set can pause rewind tv 90 hours. microsoft chief bill gates announced pre-show keynote speech partnership tivo called tivotogo means people can play recorded programmes windows pcs mobile devices. reflect increasing trend freeing multimedia people can watch want want."
      ],
      "execution_count": 5,
      "outputs": [
        {
          "output_type": "stream",
          "text": [
            "2225\n",
            "tv future hands viewers home theatre systems plasma high-definition tvs digital video recorders moving living room way people watch tv will radically different five years time. according expert panel gathered annual consumer electronics show las vegas discuss new technologies will impact one favourite pastimes. us leading trend programmes content will delivered viewers via home networks cable satellite telecoms companies broadband service providers front rooms portable devices. one talked-about technologies ces digital personal video recorders (dvr pvr). set-top boxes like us s tivo uk s sky+ system allow people record store play pause forward wind tv programmes want. essentially technology allows much personalised tv. also built-in high-definition tv sets big business japan us slower take off europe lack high-definition programming. not can people forward wind adverts can also forget abiding network channel schedules putting together a-la-carte entertainment. us networks cable satellite companies worried means terms advertising revenues well brand identity viewer loyalty channels. although us leads technology moment also concern raised europe particularly growing uptake services like sky+. happens today will see nine months years time uk adam hume bbc broadcast s futurologist told bbc news website. likes bbc no issues lost advertising revenue yet. pressing issue moment commercial uk broadcasters brand loyalty important everyone. will talking content brands rather network brands said tim hanlon brand communications firm starcom mediavest. reality broadband connections anybody can producer content. added: challenge now hard promote programme much choice. means said stacey jolna senior vice president tv guide tv group way people find content want watch simplified tv viewers. means networks us terms channels take leaf google s book search engine future instead scheduler help people find want watch. kind channel model might work younger ipod generation used taking control gadgets play them. might not suit everyone panel recognised. older generations comfortable familiar schedules channel brands know getting. perhaps not want much choice put hands mr hanlon suggested. end kids just diapers pushing buttons already - everything possible available said mr hanlon. ultimately consumer will tell market want. 50 000 new gadgets technologies showcased ces many enhancing tv-watching experience. high-definition tv sets everywhere many new models lcd (liquid crystal display) tvs launched dvr capability built instead external boxes. one example launched show humax s 26-inch lcd tv 80-hour tivo dvr dvd recorder. one us s biggest satellite tv companies directtv even launched branded dvr show 100-hours recording capability instant replay search function. set can pause rewind tv 90 hours. microsoft chief bill gates announced pre-show keynote speech partnership tivo called tivotogo means people can play recorded programmes windows pcs mobile devices. reflect increasing trend freeing multimedia people can watch want want.\n"
          ],
          "name": "stdout"
        }
      ]
    },
    {
      "cell_type": "code",
      "metadata": {
        "colab_type": "code",
        "id": "9LhzBBgSC3S5",
        "colab": {
          "base_uri": "https://localhost:8080/",
          "height": 34
        },
        "outputId": "2fcb9a80-1417-46f3-9f16-3e2e284532e7"
      },
      "source": [
        "tokenizer = Tokenizer(oov_token=\"<OOV>\")\n",
        "tokenizer.fit_on_texts(sentences)\n",
        "word_index = tokenizer.word_index\n",
        "print(len(word_index))\n",
        "# Expected output\n",
        "# 29714"
      ],
      "execution_count": 6,
      "outputs": [
        {
          "output_type": "stream",
          "text": [
            "29714\n"
          ],
          "name": "stdout"
        }
      ]
    },
    {
      "cell_type": "code",
      "metadata": {
        "colab_type": "code",
        "id": "1Gr3dbQfC5VR",
        "colab": {
          "base_uri": "https://localhost:8080/",
          "height": 51
        },
        "outputId": "b514ad33-845e-4bf5-9ddb-b858ecc6ec46"
      },
      "source": [
        "sequences = tokenizer.texts_to_sequences(sentences)\n",
        "padded = pad_sequences(sequences, padding='post')\n",
        "print(padded[0])\n",
        "print(padded.shape)\n",
        "\n",
        "# Expected output\n",
        "# [  96  176 1158 ...    0    0    0]\n",
        "# (2225, 2442)"
      ],
      "execution_count": 7,
      "outputs": [
        {
          "output_type": "stream",
          "text": [
            "[  96  176 1158 ...    0    0    0]\n",
            "(2225, 2442)\n"
          ],
          "name": "stdout"
        }
      ]
    },
    {
      "cell_type": "code",
      "metadata": {
        "colab_type": "code",
        "id": "fZufOahzC6yx",
        "colab": {
          "base_uri": "https://localhost:8080/",
          "height": 71
        },
        "outputId": "ee2f124d-004e-41d5-a2c0-2bda12d26932"
      },
      "source": [
        "label_tokenizer = Tokenizer()\n",
        "label_tokenizer.fit_on_texts(labels)\n",
        "label_word_index = label_tokenizer.word_index\n",
        "label_seq = label_tokenizer.texts_to_sequences(labels)\n",
        "print(label_seq)\n",
        "print(label_word_index)\n",
        "# Expected Output\n",
        "# [[4], [2], [1], [1], [5], [3], [3], [1], [1], [5], [5], [2], [2], [3], [1], [2], [3], [1], [2], [4], [4], [4], [1], [1], [4], [1], [5], [4], [3], [5], [3], [4], [5], [5], [2], [3], [4], [5], [3], [2], [3], [1], [2], [1], [4], [5], [3], [3], [3], [2], [1], [3], [2], [2], [1], [3], [2], [1], [1], [2], [2], [1], [2], [1], [2], [4], [2], [5], [4], [2], [3], [2], [3], [1], [2], [4], [2], [1], [1], [2], [2], [1], [3], [2], [5], [3], [3], [2], [5], [2], [1], [1], [3], [1], [3], [1], [2], [1], [2], [5], [5], [1], [2], [3], [3], [4], [1], [5], [1], [4], [2], [5], [1], [5], [1], [5], [5], [3], [1], [1], [5], [3], [2], [4], [2], [2], [4], [1], [3], [1], [4], [5], [1], [2], [2], [4], [5], [4], [1], [2], [2], [2], [4], [1], [4], [2], [1], [5], [1], [4], [1], [4], [3], [2], [4], [5], [1], [2], [3], [2], [5], [3], [3], [5], [3], [2], [5], [3], [3], [5], [3], [1], [2], [3], [3], [2], [5], [1], [2], [2], [1], [4], [1], [4], [4], [1], [2], [1], [3], [5], [3], [2], [3], [2], [4], [3], [5], [3], [4], [2], [1], [2], [1], [4], [5], [2], [3], [3], [5], [1], [5], [3], [1], [5], [1], [1], [5], [1], [3], [3], [5], [4], [1], [3], [2], [5], [4], [1], [4], [1], [5], [3], [1], [5], [4], [2], [4], [2], [2], [4], [2], [1], [2], [1], [2], [1], [5], [2], [2], [5], [1], [1], [3], [4], [3], [3], [3], [4], [1], [4], [3], [2], [4], [5], [4], [1], [1], [2], [2], [3], [2], [4], [1], [5], [1], [3], [4], [5], [2], [1], [5], [1], [4], [3], [4], [2], [2], [3], [3], [1], [2], [4], [5], [3], [4], [2], [5], [1], [5], [1], [5], [3], [2], [1], [2], [1], [1], [5], [1], [3], [3], [2], [5], [4], [2], [1], [2], [5], [2], [2], [2], [3], [2], [3], [5], [5], [2], [1], [2], [3], [2], [4], [5], [2], [1], [1], [5], [2], [2], [3], [4], [5], [4], [3], [2], [1], [3], [2], [5], [4], [5], [4], [3], [1], [5], [2], [3], [2], [2], [3], [1], [4], [2], [2], [5], [5], [4], [1], [2], [5], [4], [4], [5], [5], [5], [3], [1], [3], [4], [2], [5], [3], [2], [5], [3], [3], [1], [1], [2], [3], [5], [2], [1], [2], [2], [1], [2], [3], [3], [3], [1], [4], [4], [2], [4], [1], [5], [2], [3], [2], [5], [2], [3], [5], [3], [2], [4], [2], [1], [1], [2], [1], [1], [5], [1], [1], [1], [4], [2], [2], [2], [3], [1], [1], [2], [4], [2], [3], [1], [3], [4], [2], [1], [5], [2], [3], [4], [2], [1], [2], [3], [2], [2], [1], [5], [4], [3], [4], [2], [1], [2], [5], [4], [4], [2], [1], [1], [5], [3], [3], [3], [1], [3], [4], [4], [5], [3], [4], [5], [2], [1], [1], [4], [2], [1], [1], [3], [1], [1], [2], [1], [5], [4], [3], [1], [3], [4], [2], [2], [2], [4], [2], [2], [1], [1], [1], [1], [2], [4], [5], [1], [1], [4], [2], [4], [5], [3], [1], [2], [3], [2], [4], [4], [3], [4], [2], [1], [2], [5], [1], [3], [5], [1], [1], [3], [4], [5], [4], [1], [3], [2], [5], [3], [2], [5], [1], [1], [4], [3], [5], [3], [5], [3], [4], [3], [5], [1], [2], [1], [5], [1], [5], [4], [2], [1], [3], [5], [3], [5], [5], [5], [3], [5], [4], [3], [4], [4], [1], [1], [4], [4], [1], [5], [5], [1], [4], [5], [1], [1], [4], [2], [3], [4], [2], [1], [5], [1], [5], [3], [4], [5], [5], [2], [5], [5], [1], [4], [4], [3], [1], [4], [1], [3], [3], [5], [4], [2], [4], [4], [4], [2], [3], [3], [1], [4], [2], [2], [5], [5], [1], [4], [2], [4], [5], [1], [4], [3], [4], [3], [2], [3], [3], [2], [1], [4], [1], [4], [3], [5], [4], [1], [5], [4], [1], [3], [5], [1], [4], [1], [1], [3], [5], [2], [3], [5], [2], [2], [4], [2], [5], [4], [1], [4], [3], [4], [3], [2], [3], [5], [1], [2], [2], [2], [5], [1], [2], [5], [5], [1], [5], [3], [3], [3], [1], [1], [1], [4], [3], [1], [3], [3], [4], [3], [1], [2], [5], [1], [2], [2], [4], [2], [5], [5], [5], [2], [5], [5], [3], [4], [2], [1], [4], [1], [1], [3], [2], [1], [4], [2], [1], [4], [1], [1], [5], [1], [2], [1], [2], [4], [3], [4], [2], [1], [1], [2], [2], [2], [2], [3], [1], [2], [4], [2], [1], [3], [2], [4], [2], [1], [2], [3], [5], [1], [2], [3], [2], [5], [2], [2], [2], [1], [3], [5], [1], [3], [1], [3], [3], [2], [2], [1], [4], [5], [1], [5], [2], [2], [2], [4], [1], [4], [3], [4], [4], [4], [1], [4], [4], [5], [5], [4], [1], [5], [4], [1], [1], [2], [5], [4], [2], [1], [2], [3], [2], [5], [4], [2], [3], [2], [4], [1], [2], [5], [2], [3], [1], [5], [3], [1], [2], [1], [3], [3], [1], [5], [5], [2], [2], [1], [4], [4], [1], [5], [4], [4], [2], [1], [5], [4], [1], [1], [2], [5], [2], [2], [2], [5], [1], [5], [4], [4], [4], [3], [4], [4], [5], [5], [1], [1], [3], [2], [5], [1], [3], [5], [4], [3], [4], [4], [2], [5], [3], [4], [3], [3], [1], [3], [3], [5], [4], [1], [3], [1], [5], [3], [2], [2], [3], [1], [1], [1], [5], [4], [4], [2], [5], [1], [3], [4], [3], [5], [4], [4], [2], [2], [1], [2], [2], [4], [3], [5], [2], [2], [2], [2], [2], [4], [1], [3], [4], [4], [2], [2], [5], [3], [5], [1], [4], [1], [5], [1], [4], [1], [2], [1], [3], [3], [5], [2], [1], [3], [3], [1], [5], [3], [2], [4], [1], [2], [2], [2], [5], [5], [4], [4], [2], [2], [5], [1], [2], [5], [4], [4], [2], [2], [1], [1], [1], [3], [3], [1], [3], [1], [2], [5], [1], [4], [5], [1], [1], [2], [2], [4], [4], [1], [5], [1], [5], [1], [5], [3], [5], [5], [4], [5], [2], [2], [3], [1], [3], [4], [2], [3], [1], [3], [1], [5], [1], [3], [1], [1], [4], [5], [1], [3], [1], [1], [2], [4], [5], [3], [4], [5], [3], [5], [3], [5], [5], [4], [5], [3], [5], [5], [4], [4], [1], [1], [5], [5], [4], [5], [3], [4], [5], [2], [4], [1], [2], [5], [5], [4], [5], [4], [2], [5], [1], [5], [2], [1], [2], [1], [3], [4], [5], [3], [2], [5], [5], [3], [2], [5], [1], [3], [1], [2], [2], [2], [2], [2], [5], [4], [1], [5], [5], [2], [1], [4], [4], [5], [1], [2], [3], [2], [3], [2], [2], [5], [3], [2], [2], [4], [3], [1], [4], [5], [3], [2], [2], [1], [5], [3], [4], [2], [2], [3], [2], [1], [5], [1], [5], [4], [3], [2], [2], [4], [2], [2], [1], [2], [4], [5], [3], [2], [3], [2], [1], [4], [2], [3], [5], [4], [2], [5], [1], [3], [3], [1], [3], [2], [4], [5], [1], [1], [4], [2], [1], [5], [4], [1], [3], [1], [2], [2], [2], [3], [5], [1], [3], [4], [2], [2], [4], [5], [5], [4], [4], [1], [1], [5], [4], [5], [1], [3], [4], [2], [1], [5], [2], [2], [5], [1], [2], [1], [4], [3], [3], [4], [5], [3], [5], [2], [2], [3], [1], [4], [1], [1], [1], [3], [2], [1], [2], [4], [1], [2], [2], [1], [3], [4], [1], [2], [4], [1], [1], [2], [2], [2], [2], [3], [5], [4], [2], [2], [1], [2], [5], [2], [5], [1], [3], [2], [2], [4], [5], [2], [2], [2], [3], [2], [3], [4], [5], [3], [5], [1], [4], [3], [2], [4], [1], [2], [2], [5], [4], [2], [2], [1], [1], [5], [1], [3], [1], [2], [1], [2], [3], [3], [2], [3], [4], [5], [1], [2], [5], [1], [3], [3], [4], [5], [2], [3], [3], [1], [4], [2], [1], [5], [1], [5], [1], [2], [1], [3], [5], [4], [2], [1], [3], [4], [1], [5], [2], [1], [5], [1], [4], [1], [4], [3], [1], [2], [5], [4], [4], [3], [4], [5], [4], [1], [2], [4], [2], [5], [1], [4], [3], [3], [3], [3], [5], [5], [5], [2], [3], [3], [1], [1], [4], [1], [3], [2], [2], [4], [1], [4], [2], [4], [3], [3], [1], [2], [3], [1], [2], [4], [2], [2], [5], [5], [1], [2], [4], [4], [3], [2], [3], [1], [5], [5], [3], [3], [2], [2], [4], [4], [1], [1], [3], [4], [1], [4], [2], [1], [2], [3], [1], [5], [2], [4], [3], [5], [4], [2], [1], [5], [4], [4], [5], [3], [4], [5], [1], [5], [1], [1], [1], [3], [4], [1], [2], [1], [1], [2], [4], [1], [2], [5], [3], [4], [1], [3], [4], [5], [3], [1], [3], [4], [2], [5], [1], [3], [2], [4], [4], [4], [3], [2], [1], [3], [5], [4], [5], [1], [4], [2], [3], [5], [4], [3], [1], [1], [2], [5], [2], [2], [3], [2], [2], [3], [4], [5], [3], [5], [5], [2], [3], [1], [3], [5], [1], [5], [3], [5], [5], [5], [2], [1], [3], [1], [5], [4], [4], [2], [3], [5], [2], [1], [2], [3], [3], [2], [1], [4], [4], [4], [2], [3], [3], [2], [1], [1], [5], [2], [1], [1], [3], [3], [3], [5], [3], [2], [4], [2], [3], [5], [5], [2], [1], [3], [5], [1], [5], [3], [3], [2], [3], [1], [5], [5], [4], [4], [4], [4], [3], [4], [2], [4], [1], [1], [5], [2], [4], [5], [2], [4], [1], [4], [5], [5], [3], [3], [1], [2], [2], [4], [5], [1], [3], [2], [4], [5], [3], [1], [5], [3], [3], [4], [1], [3], [2], [3], [5], [4], [1], [3], [5], [5], [2], [1], [4], [4], [1], [5], [4], [3], [4], [1], [3], [3], [1], [5], [1], [3], [1], [4], [5], [1], [5], [2], [2], [5], [5], [5], [4], [1], [2], [2], [3], [3], [2], [3], [5], [1], [1], [4], [3], [1], [2], [1], [2], [4], [1], [1], [2], [5], [1], [1], [4], [1], [2], [3], [2], [5], [4], [5], [3], [2], [5], [3], [5], [3], [3], [2], [1], [1], [1], [4], [4], [1], [3], [5], [4], [1], [5], [2], [5], [3], [2], [1], [4], [2], [1], [3], [2], [5], [5], [5], [3], [5], [3], [5], [1], [5], [1], [3], [3], [2], [3], [4], [1], [4], [1], [2], [3], [4], [5], [5], [3], [5], [3], [1], [1], [3], [2], [4], [1], [3], [3], [5], [1], [3], [3], [2], [4], [4], [2], [4], [1], [1], [2], [3], [2], [4], [1], [4], [3], [5], [1], [2], [1], [5], [4], [4], [1], [3], [1], [2], [1], [2], [1], [1], [5], [5], [2], [4], [4], [2], [4], [2], [2], [1], [1], [3], [1], [4], [1], [4], [1], [1], [2], [2], [4], [1], [2], [4], [4], [3], [1], [2], [5], [5], [4], [3], [1], [1], [4], [2], [4], [5], [5], [3], [3], [2], [5], [1], [5], [5], [2], [1], [3], [4], [2], [1], [5], [4], [3], [3], [1], [1], [2], [2], [2], [2], [2], [5], [2], [3], [3], [4], [4], [5], [3], [5], [2], [3], [1], [1], [2], [4], [2], [4], [1], [2], [2], [3], [1], [1], [3], [3], [5], [5], [3], [2], [3], [3], [2], [4], [3], [3], [3], [3], [3], [5], [5], [4], [3], [1], [3], [1], [4], [1], [1], [1], [5], [4], [5], [4], [1], [4], [1], [1], [5], [5], [2], [5], [5], [3], [2], [1], [4], [4], [3], [2], [1], [2], [5], [1], [3], [5], [1], [1], [2], [3], [4], [4], [2], [2], [1], [3], [5], [1], [1], [3], [5], [4], [1], [5], [2], [3], [1], [3], [4], [5], [1], [3], [2], [5], [3], [5], [3], [1], [3], [2], [2], [3], [2], [4], [1], [2], [5], [2], [1], [1], [5], [4], [3], [4], [3], [3], [1], [1], [1], [2], [4], [5], [2], [1], [2], [1], [2], [4], [2], [2], [2], [2], [1], [1], [1], [2], [2], [5], [2], [2], [2], [1], [1], [1], [4], [2], [1], [1], [1], [2], [5], [4], [4], [4], [3], [2], [2], [4], [2], [4], [1], [1], [3], [3], [3], [1], [1], [3], [3], [4], [2], [1], [1], [1], [1], [2], [1], [2], [2], [2], [2], [1], [3], [1], [4], [4], [1], [4], [2], [5], [2], [1], [2], [4], [4], [3], [5], [2], [5], [2], [4], [3], [5], [3], [5], [5], [4], [2], [4], [4], [2], [3], [1], [5], [2], [3], [5], [2], [4], [1], [4], [3], [1], [3], [2], [3], [3], [2], [2], [2], [4], [3], [2], [3], [2], [5], [3], [1], [3], [3], [1], [5], [4], [4], [2], [4], [1], [2], [2], [3], [1], [4], [4], [4], [1], [5], [1], [3], [2], [3], [3], [5], [4], [2], [4], [1], [5], [5], [1], [2], [5], [4], [4], [1], [5], [2], [3], [3], [3], [4], [4], [2], [3], [2], [3], [3], [5], [1], [4], [2], [4], [5], [4], [4], [1], [3], [1], [1], [3], [5], [5], [2], [3], [3], [1], [2], [2], [4], [2], [4], [4], [1], [2], [3], [1], [2], [2], [1], [4], [1], [4], [5], [1], [1], [5], [2], [4], [1], [1], [3], [4], [2], [3], [1], [1], [3], [5], [4], [4], [4], [2], [1], [5], [5], [4], [2], [3], [4], [1], [1], [4], [4], [3], [2], [1], [5], [5], [1], [5], [4], [4], [2], [2], [2], [1], [1], [4], [1], [2], [4], [2], [2], [1], [2], [3], [2], [2], [4], [2], [4], [3], [4], [5], [3], [4], [5], [1], [3], [5], [2], [4], [2], [4], [5], [4], [1], [2], [2], [3], [5], [3], [1]]\n",
        "# {'sport': 1, 'business': 2, 'politics': 3, 'tech': 4, 'entertainment': 5}"
      ],
      "execution_count": 8,
      "outputs": [
        {
          "output_type": "stream",
          "text": [
            "[[4], [2], [1], [1], [5], [3], [3], [1], [1], [5], [5], [2], [2], [3], [1], [2], [3], [1], [2], [4], [4], [4], [1], [1], [4], [1], [5], [4], [3], [5], [3], [4], [5], [5], [2], [3], [4], [5], [3], [2], [3], [1], [2], [1], [4], [5], [3], [3], [3], [2], [1], [3], [2], [2], [1], [3], [2], [1], [1], [2], [2], [1], [2], [1], [2], [4], [2], [5], [4], [2], [3], [2], [3], [1], [2], [4], [2], [1], [1], [2], [2], [1], [3], [2], [5], [3], [3], [2], [5], [2], [1], [1], [3], [1], [3], [1], [2], [1], [2], [5], [5], [1], [2], [3], [3], [4], [1], [5], [1], [4], [2], [5], [1], [5], [1], [5], [5], [3], [1], [1], [5], [3], [2], [4], [2], [2], [4], [1], [3], [1], [4], [5], [1], [2], [2], [4], [5], [4], [1], [2], [2], [2], [4], [1], [4], [2], [1], [5], [1], [4], [1], [4], [3], [2], [4], [5], [1], [2], [3], [2], [5], [3], [3], [5], [3], [2], [5], [3], [3], [5], [3], [1], [2], [3], [3], [2], [5], [1], [2], [2], [1], [4], [1], [4], [4], [1], [2], [1], [3], [5], [3], [2], [3], [2], [4], [3], [5], [3], [4], [2], [1], [2], [1], [4], [5], [2], [3], [3], [5], [1], [5], [3], [1], [5], [1], [1], [5], [1], [3], [3], [5], [4], [1], [3], [2], [5], [4], [1], [4], [1], [5], [3], [1], [5], [4], [2], [4], [2], [2], [4], [2], [1], [2], [1], [2], [1], [5], [2], [2], [5], [1], [1], [3], [4], [3], [3], [3], [4], [1], [4], [3], [2], [4], [5], [4], [1], [1], [2], [2], [3], [2], [4], [1], [5], [1], [3], [4], [5], [2], [1], [5], [1], [4], [3], [4], [2], [2], [3], [3], [1], [2], [4], [5], [3], [4], [2], [5], [1], [5], [1], [5], [3], [2], [1], [2], [1], [1], [5], [1], [3], [3], [2], [5], [4], [2], [1], [2], [5], [2], [2], [2], [3], [2], [3], [5], [5], [2], [1], [2], [3], [2], [4], [5], [2], [1], [1], [5], [2], [2], [3], [4], [5], [4], [3], [2], [1], [3], [2], [5], [4], [5], [4], [3], [1], [5], [2], [3], [2], [2], [3], [1], [4], [2], [2], [5], [5], [4], [1], [2], [5], [4], [4], [5], [5], [5], [3], [1], [3], [4], [2], [5], [3], [2], [5], [3], [3], [1], [1], [2], [3], [5], [2], [1], [2], [2], [1], [2], [3], [3], [3], [1], [4], [4], [2], [4], [1], [5], [2], [3], [2], [5], [2], [3], [5], [3], [2], [4], [2], [1], [1], [2], [1], [1], [5], [1], [1], [1], [4], [2], [2], [2], [3], [1], [1], [2], [4], [2], [3], [1], [3], [4], [2], [1], [5], [2], [3], [4], [2], [1], [2], [3], [2], [2], [1], [5], [4], [3], [4], [2], [1], [2], [5], [4], [4], [2], [1], [1], [5], [3], [3], [3], [1], [3], [4], [4], [5], [3], [4], [5], [2], [1], [1], [4], [2], [1], [1], [3], [1], [1], [2], [1], [5], [4], [3], [1], [3], [4], [2], [2], [2], [4], [2], [2], [1], [1], [1], [1], [2], [4], [5], [1], [1], [4], [2], [4], [5], [3], [1], [2], [3], [2], [4], [4], [3], [4], [2], [1], [2], [5], [1], [3], [5], [1], [1], [3], [4], [5], [4], [1], [3], [2], [5], [3], [2], [5], [1], [1], [4], [3], [5], [3], [5], [3], [4], [3], [5], [1], [2], [1], [5], [1], [5], [4], [2], [1], [3], [5], [3], [5], [5], [5], [3], [5], [4], [3], [4], [4], [1], [1], [4], [4], [1], [5], [5], [1], [4], [5], [1], [1], [4], [2], [3], [4], [2], [1], [5], [1], [5], [3], [4], [5], [5], [2], [5], [5], [1], [4], [4], [3], [1], [4], [1], [3], [3], [5], [4], [2], [4], [4], [4], [2], [3], [3], [1], [4], [2], [2], [5], [5], [1], [4], [2], [4], [5], [1], [4], [3], [4], [3], [2], [3], [3], [2], [1], [4], [1], [4], [3], [5], [4], [1], [5], [4], [1], [3], [5], [1], [4], [1], [1], [3], [5], [2], [3], [5], [2], [2], [4], [2], [5], [4], [1], [4], [3], [4], [3], [2], [3], [5], [1], [2], [2], [2], [5], [1], [2], [5], [5], [1], [5], [3], [3], [3], [1], [1], [1], [4], [3], [1], [3], [3], [4], [3], [1], [2], [5], [1], [2], [2], [4], [2], [5], [5], [5], [2], [5], [5], [3], [4], [2], [1], [4], [1], [1], [3], [2], [1], [4], [2], [1], [4], [1], [1], [5], [1], [2], [1], [2], [4], [3], [4], [2], [1], [1], [2], [2], [2], [2], [3], [1], [2], [4], [2], [1], [3], [2], [4], [2], [1], [2], [3], [5], [1], [2], [3], [2], [5], [2], [2], [2], [1], [3], [5], [1], [3], [1], [3], [3], [2], [2], [1], [4], [5], [1], [5], [2], [2], [2], [4], [1], [4], [3], [4], [4], [4], [1], [4], [4], [5], [5], [4], [1], [5], [4], [1], [1], [2], [5], [4], [2], [1], [2], [3], [2], [5], [4], [2], [3], [2], [4], [1], [2], [5], [2], [3], [1], [5], [3], [1], [2], [1], [3], [3], [1], [5], [5], [2], [2], [1], [4], [4], [1], [5], [4], [4], [2], [1], [5], [4], [1], [1], [2], [5], [2], [2], [2], [5], [1], [5], [4], [4], [4], [3], [4], [4], [5], [5], [1], [1], [3], [2], [5], [1], [3], [5], [4], [3], [4], [4], [2], [5], [3], [4], [3], [3], [1], [3], [3], [5], [4], [1], [3], [1], [5], [3], [2], [2], [3], [1], [1], [1], [5], [4], [4], [2], [5], [1], [3], [4], [3], [5], [4], [4], [2], [2], [1], [2], [2], [4], [3], [5], [2], [2], [2], [2], [2], [4], [1], [3], [4], [4], [2], [2], [5], [3], [5], [1], [4], [1], [5], [1], [4], [1], [2], [1], [3], [3], [5], [2], [1], [3], [3], [1], [5], [3], [2], [4], [1], [2], [2], [2], [5], [5], [4], [4], [2], [2], [5], [1], [2], [5], [4], [4], [2], [2], [1], [1], [1], [3], [3], [1], [3], [1], [2], [5], [1], [4], [5], [1], [1], [2], [2], [4], [4], [1], [5], [1], [5], [1], [5], [3], [5], [5], [4], [5], [2], [2], [3], [1], [3], [4], [2], [3], [1], [3], [1], [5], [1], [3], [1], [1], [4], [5], [1], [3], [1], [1], [2], [4], [5], [3], [4], [5], [3], [5], [3], [5], [5], [4], [5], [3], [5], [5], [4], [4], [1], [1], [5], [5], [4], [5], [3], [4], [5], [2], [4], [1], [2], [5], [5], [4], [5], [4], [2], [5], [1], [5], [2], [1], [2], [1], [3], [4], [5], [3], [2], [5], [5], [3], [2], [5], [1], [3], [1], [2], [2], [2], [2], [2], [5], [4], [1], [5], [5], [2], [1], [4], [4], [5], [1], [2], [3], [2], [3], [2], [2], [5], [3], [2], [2], [4], [3], [1], [4], [5], [3], [2], [2], [1], [5], [3], [4], [2], [2], [3], [2], [1], [5], [1], [5], [4], [3], [2], [2], [4], [2], [2], [1], [2], [4], [5], [3], [2], [3], [2], [1], [4], [2], [3], [5], [4], [2], [5], [1], [3], [3], [1], [3], [2], [4], [5], [1], [1], [4], [2], [1], [5], [4], [1], [3], [1], [2], [2], [2], [3], [5], [1], [3], [4], [2], [2], [4], [5], [5], [4], [4], [1], [1], [5], [4], [5], [1], [3], [4], [2], [1], [5], [2], [2], [5], [1], [2], [1], [4], [3], [3], [4], [5], [3], [5], [2], [2], [3], [1], [4], [1], [1], [1], [3], [2], [1], [2], [4], [1], [2], [2], [1], [3], [4], [1], [2], [4], [1], [1], [2], [2], [2], [2], [3], [5], [4], [2], [2], [1], [2], [5], [2], [5], [1], [3], [2], [2], [4], [5], [2], [2], [2], [3], [2], [3], [4], [5], [3], [5], [1], [4], [3], [2], [4], [1], [2], [2], [5], [4], [2], [2], [1], [1], [5], [1], [3], [1], [2], [1], [2], [3], [3], [2], [3], [4], [5], [1], [2], [5], [1], [3], [3], [4], [5], [2], [3], [3], [1], [4], [2], [1], [5], [1], [5], [1], [2], [1], [3], [5], [4], [2], [1], [3], [4], [1], [5], [2], [1], [5], [1], [4], [1], [4], [3], [1], [2], [5], [4], [4], [3], [4], [5], [4], [1], [2], [4], [2], [5], [1], [4], [3], [3], [3], [3], [5], [5], [5], [2], [3], [3], [1], [1], [4], [1], [3], [2], [2], [4], [1], [4], [2], [4], [3], [3], [1], [2], [3], [1], [2], [4], [2], [2], [5], [5], [1], [2], [4], [4], [3], [2], [3], [1], [5], [5], [3], [3], [2], [2], [4], [4], [1], [1], [3], [4], [1], [4], [2], [1], [2], [3], [1], [5], [2], [4], [3], [5], [4], [2], [1], [5], [4], [4], [5], [3], [4], [5], [1], [5], [1], [1], [1], [3], [4], [1], [2], [1], [1], [2], [4], [1], [2], [5], [3], [4], [1], [3], [4], [5], [3], [1], [3], [4], [2], [5], [1], [3], [2], [4], [4], [4], [3], [2], [1], [3], [5], [4], [5], [1], [4], [2], [3], [5], [4], [3], [1], [1], [2], [5], [2], [2], [3], [2], [2], [3], [4], [5], [3], [5], [5], [2], [3], [1], [3], [5], [1], [5], [3], [5], [5], [5], [2], [1], [3], [1], [5], [4], [4], [2], [3], [5], [2], [1], [2], [3], [3], [2], [1], [4], [4], [4], [2], [3], [3], [2], [1], [1], [5], [2], [1], [1], [3], [3], [3], [5], [3], [2], [4], [2], [3], [5], [5], [2], [1], [3], [5], [1], [5], [3], [3], [2], [3], [1], [5], [5], [4], [4], [4], [4], [3], [4], [2], [4], [1], [1], [5], [2], [4], [5], [2], [4], [1], [4], [5], [5], [3], [3], [1], [2], [2], [4], [5], [1], [3], [2], [4], [5], [3], [1], [5], [3], [3], [4], [1], [3], [2], [3], [5], [4], [1], [3], [5], [5], [2], [1], [4], [4], [1], [5], [4], [3], [4], [1], [3], [3], [1], [5], [1], [3], [1], [4], [5], [1], [5], [2], [2], [5], [5], [5], [4], [1], [2], [2], [3], [3], [2], [3], [5], [1], [1], [4], [3], [1], [2], [1], [2], [4], [1], [1], [2], [5], [1], [1], [4], [1], [2], [3], [2], [5], [4], [5], [3], [2], [5], [3], [5], [3], [3], [2], [1], [1], [1], [4], [4], [1], [3], [5], [4], [1], [5], [2], [5], [3], [2], [1], [4], [2], [1], [3], [2], [5], [5], [5], [3], [5], [3], [5], [1], [5], [1], [3], [3], [2], [3], [4], [1], [4], [1], [2], [3], [4], [5], [5], [3], [5], [3], [1], [1], [3], [2], [4], [1], [3], [3], [5], [1], [3], [3], [2], [4], [4], [2], [4], [1], [1], [2], [3], [2], [4], [1], [4], [3], [5], [1], [2], [1], [5], [4], [4], [1], [3], [1], [2], [1], [2], [1], [1], [5], [5], [2], [4], [4], [2], [4], [2], [2], [1], [1], [3], [1], [4], [1], [4], [1], [1], [2], [2], [4], [1], [2], [4], [4], [3], [1], [2], [5], [5], [4], [3], [1], [1], [4], [2], [4], [5], [5], [3], [3], [2], [5], [1], [5], [5], [2], [1], [3], [4], [2], [1], [5], [4], [3], [3], [1], [1], [2], [2], [2], [2], [2], [5], [2], [3], [3], [4], [4], [5], [3], [5], [2], [3], [1], [1], [2], [4], [2], [4], [1], [2], [2], [3], [1], [1], [3], [3], [5], [5], [3], [2], [3], [3], [2], [4], [3], [3], [3], [3], [3], [5], [5], [4], [3], [1], [3], [1], [4], [1], [1], [1], [5], [4], [5], [4], [1], [4], [1], [1], [5], [5], [2], [5], [5], [3], [2], [1], [4], [4], [3], [2], [1], [2], [5], [1], [3], [5], [1], [1], [2], [3], [4], [4], [2], [2], [1], [3], [5], [1], [1], [3], [5], [4], [1], [5], [2], [3], [1], [3], [4], [5], [1], [3], [2], [5], [3], [5], [3], [1], [3], [2], [2], [3], [2], [4], [1], [2], [5], [2], [1], [1], [5], [4], [3], [4], [3], [3], [1], [1], [1], [2], [4], [5], [2], [1], [2], [1], [2], [4], [2], [2], [2], [2], [1], [1], [1], [2], [2], [5], [2], [2], [2], [1], [1], [1], [4], [2], [1], [1], [1], [2], [5], [4], [4], [4], [3], [2], [2], [4], [2], [4], [1], [1], [3], [3], [3], [1], [1], [3], [3], [4], [2], [1], [1], [1], [1], [2], [1], [2], [2], [2], [2], [1], [3], [1], [4], [4], [1], [4], [2], [5], [2], [1], [2], [4], [4], [3], [5], [2], [5], [2], [4], [3], [5], [3], [5], [5], [4], [2], [4], [4], [2], [3], [1], [5], [2], [3], [5], [2], [4], [1], [4], [3], [1], [3], [2], [3], [3], [2], [2], [2], [4], [3], [2], [3], [2], [5], [3], [1], [3], [3], [1], [5], [4], [4], [2], [4], [1], [2], [2], [3], [1], [4], [4], [4], [1], [5], [1], [3], [2], [3], [3], [5], [4], [2], [4], [1], [5], [5], [1], [2], [5], [4], [4], [1], [5], [2], [3], [3], [3], [4], [4], [2], [3], [2], [3], [3], [5], [1], [4], [2], [4], [5], [4], [4], [1], [3], [1], [1], [3], [5], [5], [2], [3], [3], [1], [2], [2], [4], [2], [4], [4], [1], [2], [3], [1], [2], [2], [1], [4], [1], [4], [5], [1], [1], [5], [2], [4], [1], [1], [3], [4], [2], [3], [1], [1], [3], [5], [4], [4], [4], [2], [1], [5], [5], [4], [2], [3], [4], [1], [1], [4], [4], [3], [2], [1], [5], [5], [1], [5], [4], [4], [2], [2], [2], [1], [1], [4], [1], [2], [4], [2], [2], [1], [2], [3], [2], [2], [4], [2], [4], [3], [4], [5], [3], [4], [5], [1], [3], [5], [2], [4], [2], [4], [5], [4], [1], [2], [2], [3], [5], [3], [1]]\n",
            "{'sport': 1, 'business': 2, 'politics': 3, 'tech': 4, 'entertainment': 5}\n"
          ],
          "name": "stdout"
        }
      ]
    },
    {
      "cell_type": "code",
      "metadata": {
        "id": "mr1C18Blr0qE",
        "colab_type": "code",
        "colab": {
          "base_uri": "https://localhost:8080/",
          "height": 54
        },
        "outputId": "39bf8a6b-a8d0-4af0-add6-3f6b2f88bb38"
      },
      "source": [
        "print(labels)"
      ],
      "execution_count": 9,
      "outputs": [
        {
          "output_type": "stream",
          "text": [
            "['tech', 'business', 'sport', 'sport', 'entertainment', 'politics', 'politics', 'sport', 'sport', 'entertainment', 'entertainment', 'business', 'business', 'politics', 'sport', 'business', 'politics', 'sport', 'business', 'tech', 'tech', 'tech', 'sport', 'sport', 'tech', 'sport', 'entertainment', 'tech', 'politics', 'entertainment', 'politics', 'tech', 'entertainment', 'entertainment', 'business', 'politics', 'tech', 'entertainment', 'politics', 'business', 'politics', 'sport', 'business', 'sport', 'tech', 'entertainment', 'politics', 'politics', 'politics', 'business', 'sport', 'politics', 'business', 'business', 'sport', 'politics', 'business', 'sport', 'sport', 'business', 'business', 'sport', 'business', 'sport', 'business', 'tech', 'business', 'entertainment', 'tech', 'business', 'politics', 'business', 'politics', 'sport', 'business', 'tech', 'business', 'sport', 'sport', 'business', 'business', 'sport', 'politics', 'business', 'entertainment', 'politics', 'politics', 'business', 'entertainment', 'business', 'sport', 'sport', 'politics', 'sport', 'politics', 'sport', 'business', 'sport', 'business', 'entertainment', 'entertainment', 'sport', 'business', 'politics', 'politics', 'tech', 'sport', 'entertainment', 'sport', 'tech', 'business', 'entertainment', 'sport', 'entertainment', 'sport', 'entertainment', 'entertainment', 'politics', 'sport', 'sport', 'entertainment', 'politics', 'business', 'tech', 'business', 'business', 'tech', 'sport', 'politics', 'sport', 'tech', 'entertainment', 'sport', 'business', 'business', 'tech', 'entertainment', 'tech', 'sport', 'business', 'business', 'business', 'tech', 'sport', 'tech', 'business', 'sport', 'entertainment', 'sport', 'tech', 'sport', 'tech', 'politics', 'business', 'tech', 'entertainment', 'sport', 'business', 'politics', 'business', 'entertainment', 'politics', 'politics', 'entertainment', 'politics', 'business', 'entertainment', 'politics', 'politics', 'entertainment', 'politics', 'sport', 'business', 'politics', 'politics', 'business', 'entertainment', 'sport', 'business', 'business', 'sport', 'tech', 'sport', 'tech', 'tech', 'sport', 'business', 'sport', 'politics', 'entertainment', 'politics', 'business', 'politics', 'business', 'tech', 'politics', 'entertainment', 'politics', 'tech', 'business', 'sport', 'business', 'sport', 'tech', 'entertainment', 'business', 'politics', 'politics', 'entertainment', 'sport', 'entertainment', 'politics', 'sport', 'entertainment', 'sport', 'sport', 'entertainment', 'sport', 'politics', 'politics', 'entertainment', 'tech', 'sport', 'politics', 'business', 'entertainment', 'tech', 'sport', 'tech', 'sport', 'entertainment', 'politics', 'sport', 'entertainment', 'tech', 'business', 'tech', 'business', 'business', 'tech', 'business', 'sport', 'business', 'sport', 'business', 'sport', 'entertainment', 'business', 'business', 'entertainment', 'sport', 'sport', 'politics', 'tech', 'politics', 'politics', 'politics', 'tech', 'sport', 'tech', 'politics', 'business', 'tech', 'entertainment', 'tech', 'sport', 'sport', 'business', 'business', 'politics', 'business', 'tech', 'sport', 'entertainment', 'sport', 'politics', 'tech', 'entertainment', 'business', 'sport', 'entertainment', 'sport', 'tech', 'politics', 'tech', 'business', 'business', 'politics', 'politics', 'sport', 'business', 'tech', 'entertainment', 'politics', 'tech', 'business', 'entertainment', 'sport', 'entertainment', 'sport', 'entertainment', 'politics', 'business', 'sport', 'business', 'sport', 'sport', 'entertainment', 'sport', 'politics', 'politics', 'business', 'entertainment', 'tech', 'business', 'sport', 'business', 'entertainment', 'business', 'business', 'business', 'politics', 'business', 'politics', 'entertainment', 'entertainment', 'business', 'sport', 'business', 'politics', 'business', 'tech', 'entertainment', 'business', 'sport', 'sport', 'entertainment', 'business', 'business', 'politics', 'tech', 'entertainment', 'tech', 'politics', 'business', 'sport', 'politics', 'business', 'entertainment', 'tech', 'entertainment', 'tech', 'politics', 'sport', 'entertainment', 'business', 'politics', 'business', 'business', 'politics', 'sport', 'tech', 'business', 'business', 'entertainment', 'entertainment', 'tech', 'sport', 'business', 'entertainment', 'tech', 'tech', 'entertainment', 'entertainment', 'entertainment', 'politics', 'sport', 'politics', 'tech', 'business', 'entertainment', 'politics', 'business', 'entertainment', 'politics', 'politics', 'sport', 'sport', 'business', 'politics', 'entertainment', 'business', 'sport', 'business', 'business', 'sport', 'business', 'politics', 'politics', 'politics', 'sport', 'tech', 'tech', 'business', 'tech', 'sport', 'entertainment', 'business', 'politics', 'business', 'entertainment', 'business', 'politics', 'entertainment', 'politics', 'business', 'tech', 'business', 'sport', 'sport', 'business', 'sport', 'sport', 'entertainment', 'sport', 'sport', 'sport', 'tech', 'business', 'business', 'business', 'politics', 'sport', 'sport', 'business', 'tech', 'business', 'politics', 'sport', 'politics', 'tech', 'business', 'sport', 'entertainment', 'business', 'politics', 'tech', 'business', 'sport', 'business', 'politics', 'business', 'business', 'sport', 'entertainment', 'tech', 'politics', 'tech', 'business', 'sport', 'business', 'entertainment', 'tech', 'tech', 'business', 'sport', 'sport', 'entertainment', 'politics', 'politics', 'politics', 'sport', 'politics', 'tech', 'tech', 'entertainment', 'politics', 'tech', 'entertainment', 'business', 'sport', 'sport', 'tech', 'business', 'sport', 'sport', 'politics', 'sport', 'sport', 'business', 'sport', 'entertainment', 'tech', 'politics', 'sport', 'politics', 'tech', 'business', 'business', 'business', 'tech', 'business', 'business', 'sport', 'sport', 'sport', 'sport', 'business', 'tech', 'entertainment', 'sport', 'sport', 'tech', 'business', 'tech', 'entertainment', 'politics', 'sport', 'business', 'politics', 'business', 'tech', 'tech', 'politics', 'tech', 'business', 'sport', 'business', 'entertainment', 'sport', 'politics', 'entertainment', 'sport', 'sport', 'politics', 'tech', 'entertainment', 'tech', 'sport', 'politics', 'business', 'entertainment', 'politics', 'business', 'entertainment', 'sport', 'sport', 'tech', 'politics', 'entertainment', 'politics', 'entertainment', 'politics', 'tech', 'politics', 'entertainment', 'sport', 'business', 'sport', 'entertainment', 'sport', 'entertainment', 'tech', 'business', 'sport', 'politics', 'entertainment', 'politics', 'entertainment', 'entertainment', 'entertainment', 'politics', 'entertainment', 'tech', 'politics', 'tech', 'tech', 'sport', 'sport', 'tech', 'tech', 'sport', 'entertainment', 'entertainment', 'sport', 'tech', 'entertainment', 'sport', 'sport', 'tech', 'business', 'politics', 'tech', 'business', 'sport', 'entertainment', 'sport', 'entertainment', 'politics', 'tech', 'entertainment', 'entertainment', 'business', 'entertainment', 'entertainment', 'sport', 'tech', 'tech', 'politics', 'sport', 'tech', 'sport', 'politics', 'politics', 'entertainment', 'tech', 'business', 'tech', 'tech', 'tech', 'business', 'politics', 'politics', 'sport', 'tech', 'business', 'business', 'entertainment', 'entertainment', 'sport', 'tech', 'business', 'tech', 'entertainment', 'sport', 'tech', 'politics', 'tech', 'politics', 'business', 'politics', 'politics', 'business', 'sport', 'tech', 'sport', 'tech', 'politics', 'entertainment', 'tech', 'sport', 'entertainment', 'tech', 'sport', 'politics', 'entertainment', 'sport', 'tech', 'sport', 'sport', 'politics', 'entertainment', 'business', 'politics', 'entertainment', 'business', 'business', 'tech', 'business', 'entertainment', 'tech', 'sport', 'tech', 'politics', 'tech', 'politics', 'business', 'politics', 'entertainment', 'sport', 'business', 'business', 'business', 'entertainment', 'sport', 'business', 'entertainment', 'entertainment', 'sport', 'entertainment', 'politics', 'politics', 'politics', 'sport', 'sport', 'sport', 'tech', 'politics', 'sport', 'politics', 'politics', 'tech', 'politics', 'sport', 'business', 'entertainment', 'sport', 'business', 'business', 'tech', 'business', 'entertainment', 'entertainment', 'entertainment', 'business', 'entertainment', 'entertainment', 'politics', 'tech', 'business', 'sport', 'tech', 'sport', 'sport', 'politics', 'business', 'sport', 'tech', 'business', 'sport', 'tech', 'sport', 'sport', 'entertainment', 'sport', 'business', 'sport', 'business', 'tech', 'politics', 'tech', 'business', 'sport', 'sport', 'business', 'business', 'business', 'business', 'politics', 'sport', 'business', 'tech', 'business', 'sport', 'politics', 'business', 'tech', 'business', 'sport', 'business', 'politics', 'entertainment', 'sport', 'business', 'politics', 'business', 'entertainment', 'business', 'business', 'business', 'sport', 'politics', 'entertainment', 'sport', 'politics', 'sport', 'politics', 'politics', 'business', 'business', 'sport', 'tech', 'entertainment', 'sport', 'entertainment', 'business', 'business', 'business', 'tech', 'sport', 'tech', 'politics', 'tech', 'tech', 'tech', 'sport', 'tech', 'tech', 'entertainment', 'entertainment', 'tech', 'sport', 'entertainment', 'tech', 'sport', 'sport', 'business', 'entertainment', 'tech', 'business', 'sport', 'business', 'politics', 'business', 'entertainment', 'tech', 'business', 'politics', 'business', 'tech', 'sport', 'business', 'entertainment', 'business', 'politics', 'sport', 'entertainment', 'politics', 'sport', 'business', 'sport', 'politics', 'politics', 'sport', 'entertainment', 'entertainment', 'business', 'business', 'sport', 'tech', 'tech', 'sport', 'entertainment', 'tech', 'tech', 'business', 'sport', 'entertainment', 'tech', 'sport', 'sport', 'business', 'entertainment', 'business', 'business', 'business', 'entertainment', 'sport', 'entertainment', 'tech', 'tech', 'tech', 'politics', 'tech', 'tech', 'entertainment', 'entertainment', 'sport', 'sport', 'politics', 'business', 'entertainment', 'sport', 'politics', 'entertainment', 'tech', 'politics', 'tech', 'tech', 'business', 'entertainment', 'politics', 'tech', 'politics', 'politics', 'sport', 'politics', 'politics', 'entertainment', 'tech', 'sport', 'politics', 'sport', 'entertainment', 'politics', 'business', 'business', 'politics', 'sport', 'sport', 'sport', 'entertainment', 'tech', 'tech', 'business', 'entertainment', 'sport', 'politics', 'tech', 'politics', 'entertainment', 'tech', 'tech', 'business', 'business', 'sport', 'business', 'business', 'tech', 'politics', 'entertainment', 'business', 'business', 'business', 'business', 'business', 'tech', 'sport', 'politics', 'tech', 'tech', 'business', 'business', 'entertainment', 'politics', 'entertainment', 'sport', 'tech', 'sport', 'entertainment', 'sport', 'tech', 'sport', 'business', 'sport', 'politics', 'politics', 'entertainment', 'business', 'sport', 'politics', 'politics', 'sport', 'entertainment', 'politics', 'business', 'tech', 'sport', 'business', 'business', 'business', 'entertainment', 'entertainment', 'tech', 'tech', 'business', 'business', 'entertainment', 'sport', 'business', 'entertainment', 'tech', 'tech', 'business', 'business', 'sport', 'sport', 'sport', 'politics', 'politics', 'sport', 'politics', 'sport', 'business', 'entertainment', 'sport', 'tech', 'entertainment', 'sport', 'sport', 'business', 'business', 'tech', 'tech', 'sport', 'entertainment', 'sport', 'entertainment', 'sport', 'entertainment', 'politics', 'entertainment', 'entertainment', 'tech', 'entertainment', 'business', 'business', 'politics', 'sport', 'politics', 'tech', 'business', 'politics', 'sport', 'politics', 'sport', 'entertainment', 'sport', 'politics', 'sport', 'sport', 'tech', 'entertainment', 'sport', 'politics', 'sport', 'sport', 'business', 'tech', 'entertainment', 'politics', 'tech', 'entertainment', 'politics', 'entertainment', 'politics', 'entertainment', 'entertainment', 'tech', 'entertainment', 'politics', 'entertainment', 'entertainment', 'tech', 'tech', 'sport', 'sport', 'entertainment', 'entertainment', 'tech', 'entertainment', 'politics', 'tech', 'entertainment', 'business', 'tech', 'sport', 'business', 'entertainment', 'entertainment', 'tech', 'entertainment', 'tech', 'business', 'entertainment', 'sport', 'entertainment', 'business', 'sport', 'business', 'sport', 'politics', 'tech', 'entertainment', 'politics', 'business', 'entertainment', 'entertainment', 'politics', 'business', 'entertainment', 'sport', 'politics', 'sport', 'business', 'business', 'business', 'business', 'business', 'entertainment', 'tech', 'sport', 'entertainment', 'entertainment', 'business', 'sport', 'tech', 'tech', 'entertainment', 'sport', 'business', 'politics', 'business', 'politics', 'business', 'business', 'entertainment', 'politics', 'business', 'business', 'tech', 'politics', 'sport', 'tech', 'entertainment', 'politics', 'business', 'business', 'sport', 'entertainment', 'politics', 'tech', 'business', 'business', 'politics', 'business', 'sport', 'entertainment', 'sport', 'entertainment', 'tech', 'politics', 'business', 'business', 'tech', 'business', 'business', 'sport', 'business', 'tech', 'entertainment', 'politics', 'business', 'politics', 'business', 'sport', 'tech', 'business', 'politics', 'entertainment', 'tech', 'business', 'entertainment', 'sport', 'politics', 'politics', 'sport', 'politics', 'business', 'tech', 'entertainment', 'sport', 'sport', 'tech', 'business', 'sport', 'entertainment', 'tech', 'sport', 'politics', 'sport', 'business', 'business', 'business', 'politics', 'entertainment', 'sport', 'politics', 'tech', 'business', 'business', 'tech', 'entertainment', 'entertainment', 'tech', 'tech', 'sport', 'sport', 'entertainment', 'tech', 'entertainment', 'sport', 'politics', 'tech', 'business', 'sport', 'entertainment', 'business', 'business', 'entertainment', 'sport', 'business', 'sport', 'tech', 'politics', 'politics', 'tech', 'entertainment', 'politics', 'entertainment', 'business', 'business', 'politics', 'sport', 'tech', 'sport', 'sport', 'sport', 'politics', 'business', 'sport', 'business', 'tech', 'sport', 'business', 'business', 'sport', 'politics', 'tech', 'sport', 'business', 'tech', 'sport', 'sport', 'business', 'business', 'business', 'business', 'politics', 'entertainment', 'tech', 'business', 'business', 'sport', 'business', 'entertainment', 'business', 'entertainment', 'sport', 'politics', 'business', 'business', 'tech', 'entertainment', 'business', 'business', 'business', 'politics', 'business', 'politics', 'tech', 'entertainment', 'politics', 'entertainment', 'sport', 'tech', 'politics', 'business', 'tech', 'sport', 'business', 'business', 'entertainment', 'tech', 'business', 'business', 'sport', 'sport', 'entertainment', 'sport', 'politics', 'sport', 'business', 'sport', 'business', 'politics', 'politics', 'business', 'politics', 'tech', 'entertainment', 'sport', 'business', 'entertainment', 'sport', 'politics', 'politics', 'tech', 'entertainment', 'business', 'politics', 'politics', 'sport', 'tech', 'business', 'sport', 'entertainment', 'sport', 'entertainment', 'sport', 'business', 'sport', 'politics', 'entertainment', 'tech', 'business', 'sport', 'politics', 'tech', 'sport', 'entertainment', 'business', 'sport', 'entertainment', 'sport', 'tech', 'sport', 'tech', 'politics', 'sport', 'business', 'entertainment', 'tech', 'tech', 'politics', 'tech', 'entertainment', 'tech', 'sport', 'business', 'tech', 'business', 'entertainment', 'sport', 'tech', 'politics', 'politics', 'politics', 'politics', 'entertainment', 'entertainment', 'entertainment', 'business', 'politics', 'politics', 'sport', 'sport', 'tech', 'sport', 'politics', 'business', 'business', 'tech', 'sport', 'tech', 'business', 'tech', 'politics', 'politics', 'sport', 'business', 'politics', 'sport', 'business', 'tech', 'business', 'business', 'entertainment', 'entertainment', 'sport', 'business', 'tech', 'tech', 'politics', 'business', 'politics', 'sport', 'entertainment', 'entertainment', 'politics', 'politics', 'business', 'business', 'tech', 'tech', 'sport', 'sport', 'politics', 'tech', 'sport', 'tech', 'business', 'sport', 'business', 'politics', 'sport', 'entertainment', 'business', 'tech', 'politics', 'entertainment', 'tech', 'business', 'sport', 'entertainment', 'tech', 'tech', 'entertainment', 'politics', 'tech', 'entertainment', 'sport', 'entertainment', 'sport', 'sport', 'sport', 'politics', 'tech', 'sport', 'business', 'sport', 'sport', 'business', 'tech', 'sport', 'business', 'entertainment', 'politics', 'tech', 'sport', 'politics', 'tech', 'entertainment', 'politics', 'sport', 'politics', 'tech', 'business', 'entertainment', 'sport', 'politics', 'business', 'tech', 'tech', 'tech', 'politics', 'business', 'sport', 'politics', 'entertainment', 'tech', 'entertainment', 'sport', 'tech', 'business', 'politics', 'entertainment', 'tech', 'politics', 'sport', 'sport', 'business', 'entertainment', 'business', 'business', 'politics', 'business', 'business', 'politics', 'tech', 'entertainment', 'politics', 'entertainment', 'entertainment', 'business', 'politics', 'sport', 'politics', 'entertainment', 'sport', 'entertainment', 'politics', 'entertainment', 'entertainment', 'entertainment', 'business', 'sport', 'politics', 'sport', 'entertainment', 'tech', 'tech', 'business', 'politics', 'entertainment', 'business', 'sport', 'business', 'politics', 'politics', 'business', 'sport', 'tech', 'tech', 'tech', 'business', 'politics', 'politics', 'business', 'sport', 'sport', 'entertainment', 'business', 'sport', 'sport', 'politics', 'politics', 'politics', 'entertainment', 'politics', 'business', 'tech', 'business', 'politics', 'entertainment', 'entertainment', 'business', 'sport', 'politics', 'entertainment', 'sport', 'entertainment', 'politics', 'politics', 'business', 'politics', 'sport', 'entertainment', 'entertainment', 'tech', 'tech', 'tech', 'tech', 'politics', 'tech', 'business', 'tech', 'sport', 'sport', 'entertainment', 'business', 'tech', 'entertainment', 'business', 'tech', 'sport', 'tech', 'entertainment', 'entertainment', 'politics', 'politics', 'sport', 'business', 'business', 'tech', 'entertainment', 'sport', 'politics', 'business', 'tech', 'entertainment', 'politics', 'sport', 'entertainment', 'politics', 'politics', 'tech', 'sport', 'politics', 'business', 'politics', 'entertainment', 'tech', 'sport', 'politics', 'entertainment', 'entertainment', 'business', 'sport', 'tech', 'tech', 'sport', 'entertainment', 'tech', 'politics', 'tech', 'sport', 'politics', 'politics', 'sport', 'entertainment', 'sport', 'politics', 'sport', 'tech', 'entertainment', 'sport', 'entertainment', 'business', 'business', 'entertainment', 'entertainment', 'entertainment', 'tech', 'sport', 'business', 'business', 'politics', 'politics', 'business', 'politics', 'entertainment', 'sport', 'sport', 'tech', 'politics', 'sport', 'business', 'sport', 'business', 'tech', 'sport', 'sport', 'business', 'entertainment', 'sport', 'sport', 'tech', 'sport', 'business', 'politics', 'business', 'entertainment', 'tech', 'entertainment', 'politics', 'business', 'entertainment', 'politics', 'entertainment', 'politics', 'politics', 'business', 'sport', 'sport', 'sport', 'tech', 'tech', 'sport', 'politics', 'entertainment', 'tech', 'sport', 'entertainment', 'business', 'entertainment', 'politics', 'business', 'sport', 'tech', 'business', 'sport', 'politics', 'business', 'entertainment', 'entertainment', 'entertainment', 'politics', 'entertainment', 'politics', 'entertainment', 'sport', 'entertainment', 'sport', 'politics', 'politics', 'business', 'politics', 'tech', 'sport', 'tech', 'sport', 'business', 'politics', 'tech', 'entertainment', 'entertainment', 'politics', 'entertainment', 'politics', 'sport', 'sport', 'politics', 'business', 'tech', 'sport', 'politics', 'politics', 'entertainment', 'sport', 'politics', 'politics', 'business', 'tech', 'tech', 'business', 'tech', 'sport', 'sport', 'business', 'politics', 'business', 'tech', 'sport', 'tech', 'politics', 'entertainment', 'sport', 'business', 'sport', 'entertainment', 'tech', 'tech', 'sport', 'politics', 'sport', 'business', 'sport', 'business', 'sport', 'sport', 'entertainment', 'entertainment', 'business', 'tech', 'tech', 'business', 'tech', 'business', 'business', 'sport', 'sport', 'politics', 'sport', 'tech', 'sport', 'tech', 'sport', 'sport', 'business', 'business', 'tech', 'sport', 'business', 'tech', 'tech', 'politics', 'sport', 'business', 'entertainment', 'entertainment', 'tech', 'politics', 'sport', 'sport', 'tech', 'business', 'tech', 'entertainment', 'entertainment', 'politics', 'politics', 'business', 'entertainment', 'sport', 'entertainment', 'entertainment', 'business', 'sport', 'politics', 'tech', 'business', 'sport', 'entertainment', 'tech', 'politics', 'politics', 'sport', 'sport', 'business', 'business', 'business', 'business', 'business', 'entertainment', 'business', 'politics', 'politics', 'tech', 'tech', 'entertainment', 'politics', 'entertainment', 'business', 'politics', 'sport', 'sport', 'business', 'tech', 'business', 'tech', 'sport', 'business', 'business', 'politics', 'sport', 'sport', 'politics', 'politics', 'entertainment', 'entertainment', 'politics', 'business', 'politics', 'politics', 'business', 'tech', 'politics', 'politics', 'politics', 'politics', 'politics', 'entertainment', 'entertainment', 'tech', 'politics', 'sport', 'politics', 'sport', 'tech', 'sport', 'sport', 'sport', 'entertainment', 'tech', 'entertainment', 'tech', 'sport', 'tech', 'sport', 'sport', 'entertainment', 'entertainment', 'business', 'entertainment', 'entertainment', 'politics', 'business', 'sport', 'tech', 'tech', 'politics', 'business', 'sport', 'business', 'entertainment', 'sport', 'politics', 'entertainment', 'sport', 'sport', 'business', 'politics', 'tech', 'tech', 'business', 'business', 'sport', 'politics', 'entertainment', 'sport', 'sport', 'politics', 'entertainment', 'tech', 'sport', 'entertainment', 'business', 'politics', 'sport', 'politics', 'tech', 'entertainment', 'sport', 'politics', 'business', 'entertainment', 'politics', 'entertainment', 'politics', 'sport', 'politics', 'business', 'business', 'politics', 'business', 'tech', 'sport', 'business', 'entertainment', 'business', 'sport', 'sport', 'entertainment', 'tech', 'politics', 'tech', 'politics', 'politics', 'sport', 'sport', 'sport', 'business', 'tech', 'entertainment', 'business', 'sport', 'business', 'sport', 'business', 'tech', 'business', 'business', 'business', 'business', 'sport', 'sport', 'sport', 'business', 'business', 'entertainment', 'business', 'business', 'business', 'sport', 'sport', 'sport', 'tech', 'business', 'sport', 'sport', 'sport', 'business', 'entertainment', 'tech', 'tech', 'tech', 'politics', 'business', 'business', 'tech', 'business', 'tech', 'sport', 'sport', 'politics', 'politics', 'politics', 'sport', 'sport', 'politics', 'politics', 'tech', 'business', 'sport', 'sport', 'sport', 'sport', 'business', 'sport', 'business', 'business', 'business', 'business', 'sport', 'politics', 'sport', 'tech', 'tech', 'sport', 'tech', 'business', 'entertainment', 'business', 'sport', 'business', 'tech', 'tech', 'politics', 'entertainment', 'business', 'entertainment', 'business', 'tech', 'politics', 'entertainment', 'politics', 'entertainment', 'entertainment', 'tech', 'business', 'tech', 'tech', 'business', 'politics', 'sport', 'entertainment', 'business', 'politics', 'entertainment', 'business', 'tech', 'sport', 'tech', 'politics', 'sport', 'politics', 'business', 'politics', 'politics', 'business', 'business', 'business', 'tech', 'politics', 'business', 'politics', 'business', 'entertainment', 'politics', 'sport', 'politics', 'politics', 'sport', 'entertainment', 'tech', 'tech', 'business', 'tech', 'sport', 'business', 'business', 'politics', 'sport', 'tech', 'tech', 'tech', 'sport', 'entertainment', 'sport', 'politics', 'business', 'politics', 'politics', 'entertainment', 'tech', 'business', 'tech', 'sport', 'entertainment', 'entertainment', 'sport', 'business', 'entertainment', 'tech', 'tech', 'sport', 'entertainment', 'business', 'politics', 'politics', 'politics', 'tech', 'tech', 'business', 'politics', 'business', 'politics', 'politics', 'entertainment', 'sport', 'tech', 'business', 'tech', 'entertainment', 'tech', 'tech', 'sport', 'politics', 'sport', 'sport', 'politics', 'entertainment', 'entertainment', 'business', 'politics', 'politics', 'sport', 'business', 'business', 'tech', 'business', 'tech', 'tech', 'sport', 'business', 'politics', 'sport', 'business', 'business', 'sport', 'tech', 'sport', 'tech', 'entertainment', 'sport', 'sport', 'entertainment', 'business', 'tech', 'sport', 'sport', 'politics', 'tech', 'business', 'politics', 'sport', 'sport', 'politics', 'entertainment', 'tech', 'tech', 'tech', 'business', 'sport', 'entertainment', 'entertainment', 'tech', 'business', 'politics', 'tech', 'sport', 'sport', 'tech', 'tech', 'politics', 'business', 'sport', 'entertainment', 'entertainment', 'sport', 'entertainment', 'tech', 'tech', 'business', 'business', 'business', 'sport', 'sport', 'tech', 'sport', 'business', 'tech', 'business', 'business', 'sport', 'business', 'politics', 'business', 'business', 'tech', 'business', 'tech', 'politics', 'tech', 'entertainment', 'politics', 'tech', 'entertainment', 'sport', 'politics', 'entertainment', 'business', 'tech', 'business', 'tech', 'entertainment', 'tech', 'sport', 'business', 'business', 'politics', 'entertainment', 'politics', 'sport']\n"
          ],
          "name": "stdout"
        }
      ]
    },
    {
      "cell_type": "code",
      "metadata": {
        "id": "adgfpLVhxAb-",
        "colab_type": "code",
        "colab": {
          "base_uri": "https://localhost:8080/",
          "height": 88
        },
        "outputId": "cc88ea5d-88c1-4481-a69e-2f3c07b71675"
      },
      "source": [
        "with open(\"/tmp/bbc-text.csv\", 'r') as csvfile:\n",
        "    reader = csv.reader(csvfile, delimiter=',')\n",
        "    print(next(reader))\n",
        "    print(next(reader))\n",
        "\n",
        "    # count_row0 = []\n",
        "    count_row1 = []\n",
        "    for row in reader:\n",
        "      if row[1] == \"  \":\n",
        "        count_row1.append(1)\n",
        "      else:\n",
        "        count_row1.append(0)\n",
        "\n",
        "print(sum(count_row1))"
      ],
      "execution_count": 13,
      "outputs": [
        {
          "output_type": "stream",
          "text": [
            "['category', 'text']\n",
            "['tech', 'tv future in the hands of viewers with home theatre systems  plasma high-definition tvs  and digital video recorders moving into the living room  the way people watch tv will be radically different in five years  time.  that is according to an expert panel which gathered at the annual consumer electronics show in las vegas to discuss how these new technologies will impact one of our favourite pastimes. with the us leading the trend  programmes and other content will be delivered to viewers via home networks  through cable  satellite  telecoms companies  and broadband service providers to front rooms and portable devices.  one of the most talked-about technologies of ces has been digital and personal video recorders (dvr and pvr). these set-top boxes  like the us s tivo and the uk s sky+ system  allow people to record  store  play  pause and forward wind tv programmes when they want.  essentially  the technology allows for much more personalised tv. they are also being built-in to high-definition tv sets  which are big business in japan and the us  but slower to take off in europe because of the lack of high-definition programming. not only can people forward wind through adverts  they can also forget about abiding by network and channel schedules  putting together their own a-la-carte entertainment. but some us networks and cable and satellite companies are worried about what it means for them in terms of advertising revenues as well as  brand identity  and viewer loyalty to channels. although the us leads in this technology at the moment  it is also a concern that is being raised in europe  particularly with the growing uptake of services like sky+.  what happens here today  we will see in nine months to a years  time in the uk   adam hume  the bbc broadcast s futurologist told the bbc news website. for the likes of the bbc  there are no issues of lost advertising revenue yet. it is a more pressing issue at the moment for commercial uk broadcasters  but brand loyalty is important for everyone.  we will be talking more about content brands rather than network brands   said tim hanlon  from brand communications firm starcom mediavest.  the reality is that with broadband connections  anybody can be the producer of content.  he added:  the challenge now is that it is hard to promote a programme with so much choice.   what this means  said stacey jolna  senior vice president of tv guide tv group  is that the way people find the content they want to watch has to be simplified for tv viewers. it means that networks  in us terms  or channels could take a leaf out of google s book and be the search engine of the future  instead of the scheduler to help people find what they want to watch. this kind of channel model might work for the younger ipod generation which is used to taking control of their gadgets and what they play on them. but it might not suit everyone  the panel recognised. older generations are more comfortable with familiar schedules and channel brands because they know what they are getting. they perhaps do not want so much of the choice put into their hands  mr hanlon suggested.  on the other end  you have the kids just out of diapers who are pushing buttons already - everything is possible and available to them   said mr hanlon.  ultimately  the consumer will tell the market they want.   of the 50 000 new gadgets and technologies being showcased at ces  many of them are about enhancing the tv-watching experience. high-definition tv sets are everywhere and many new models of lcd (liquid crystal display) tvs have been launched with dvr capability built into them  instead of being external boxes. one such example launched at the show is humax s 26-inch lcd tv with an 80-hour tivo dvr and dvd recorder. one of the us s biggest satellite tv companies  directtv  has even launched its own branded dvr at the show with 100-hours of recording capability  instant replay  and a search function. the set can pause and rewind tv for up to 90 hours. and microsoft chief bill gates announced in his pre-show keynote speech a partnership with tivo  called tivotogo  which means people can play recorded programmes on windows pcs and mobile devices. all these reflect the increasing trend of freeing up multimedia so that people can watch what they want  when they want.']\n",
            "0\n"
          ],
          "name": "stdout"
        }
      ]
    },
    {
      "cell_type": "code",
      "metadata": {
        "id": "VjilC70DyVBw",
        "colab_type": "code",
        "colab": {
          "base_uri": "https://localhost:8080/",
          "height": 105
        },
        "outputId": "b8e8304b-9fae-48db-9cdd-caabb75d22f3"
      },
      "source": [
        "stopwords_with_blank2 = []\n",
        "stopwords_with_blank1 = []\n",
        "for word in stopwords:\n",
        "  if word == \"  \":\n",
        "    stopwords_with_blank2.append(1)\n",
        "  elif word == \" \":\n",
        "    stopwords_with_blank1.append(1)\n",
        "  else:\n",
        "    stopwords_with_blank2.append(0)\n",
        "\n",
        "print(stopwords_with_blank2)\n",
        "print(sum(stopwords_with_blank2))\n",
        "print(stopwords_with_blank1)\n",
        "print(sum(stopwords_with_blank1))"
      ],
      "execution_count": 18,
      "outputs": [
        {
          "output_type": "stream",
          "text": [
            "[0, 0, 0, 0, 0, 0, 0, 0, 0, 0, 0, 0, 0, 0, 0, 0, 0, 0, 0, 0, 0, 0, 0, 0, 0, 0, 0, 0, 0, 0, 0, 0, 0, 0, 0, 0, 0, 0, 0, 0, 0, 0, 0, 0, 0, 0, 0, 0, 0, 0, 0, 0, 0, 0, 0, 0, 0, 0, 0, 0, 0, 0, 0, 0, 0, 0, 0, 0, 0, 0, 0, 0, 0, 0, 0, 0, 0, 0, 0, 0, 0, 0, 0, 0, 0, 0, 0, 0, 0, 0, 0, 0, 0, 0, 0, 0, 0, 0, 0, 0, 0, 0, 0, 0, 0, 0, 0, 0, 0, 0, 0, 0, 0, 0, 0, 0, 0, 0, 0, 0, 0, 0, 0, 0, 0, 0, 0, 0, 0, 0, 0, 0, 0, 0, 0, 0, 0, 0, 0, 0, 0, 0, 0, 0, 0, 0, 0, 0, 0, 0, 0, 0, 0]\n",
            "0\n",
            "[]\n",
            "0\n"
          ],
          "name": "stdout"
        }
      ]
    },
    {
      "cell_type": "code",
      "metadata": {
        "id": "vNMFYWoE0PrN",
        "colab_type": "code",
        "colab": {}
      },
      "source": [
        ""
      ],
      "execution_count": null,
      "outputs": []
    }
  ]
}