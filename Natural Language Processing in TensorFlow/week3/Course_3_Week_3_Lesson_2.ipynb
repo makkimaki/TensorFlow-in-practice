{
  "nbformat": 4,
  "nbformat_minor": 0,
  "metadata": {
    "accelerator": "GPU",
    "colab": {
      "name": "Course 3 - Week 3 - Lesson 2.ipynb のコピー",
      "provenance": [],
      "collapsed_sections": []
    },
    "kernelspec": {
      "display_name": "Python 3",
      "language": "python",
      "name": "python3"
    },
    "language_info": {
      "codemirror_mode": {
        "name": "ipython",
        "version": 3
      },
      "file_extension": ".py",
      "mimetype": "text/x-python",
      "name": "python",
      "nbconvert_exporter": "python",
      "pygments_lexer": "ipython3",
      "version": "3.7.6"
    }
  },
  "cells": [
    {
      "cell_type": "code",
      "metadata": {
        "colab_type": "code",
        "id": "zX4Kg8DUTKWO",
        "colab": {}
      },
      "source": [
        "#@title Licensed under the Apache License, Version 2.0 (the \"License\");\n",
        "# you may not use this file except in compliance with the License.\n",
        "# You may obtain a copy of the License at\n",
        "#\n",
        "# https://www.apache.org/licenses/LICENSE-2.0\n",
        "#\n",
        "# Unless required by applicable law or agreed to in writing, software\n",
        "# distributed under the License is distributed on an \"AS IS\" BASIS,\n",
        "# WITHOUT WARRANTIES OR CONDITIONS OF ANY KIND, either express or implied.\n",
        "# See the License for the specific language governing permissions and\n",
        "# limitations under the License."
      ],
      "execution_count": null,
      "outputs": []
    },
    {
      "cell_type": "markdown",
      "metadata": {
        "id": "YePNImpmM23g",
        "colab_type": "text"
      },
      "source": [
        "<a href=\"https://colab.research.google.com/github/lmoroney/dlaicourse/blob/master/TensorFlow%20In%20Practice/Course%203%20-%20NLP/Course%203%20-%20Week%203%20-%20Lesson%202.ipynb\" target=\"_parent\"><img src=\"https://colab.research.google.com/assets/colab-badge.svg\" alt=\"Open In Colab\"/></a>"
      ]
    },
    {
      "cell_type": "code",
      "metadata": {
        "colab_type": "code",
        "id": "jGwXGIXvFhXW",
        "colab": {
          "base_uri": "https://localhost:8080/",
          "height": 1000
        },
        "outputId": "8542d748-9b13-4b46-9a61-d40f0c72c3b4"
      },
      "source": [
        "import numpy as np\n",
        "\n",
        "import json\n",
        "import tensorflow as tf\n",
        "\n",
        "from tensorflow.keras.preprocessing.text import Tokenizer\n",
        "from tensorflow.keras.preprocessing.sequence import pad_sequences\n",
        "\n",
        "!wget --no-check-certificate \\\n",
        "    https://storage.googleapis.com/laurencemoroney-blog.appspot.com/sarcasm.json \\\n",
        "    -O /tmp/sarcasm.json\n",
        "\n",
        "vocab_size = 1000\n",
        "embedding_dim = 16\n",
        "max_length = 120\n",
        "trunc_type = 'post'\n",
        "padding_type = 'post'\n",
        "oov_tok = \"<OOV>\"\n",
        "training_size = 20000\n",
        "\n",
        "\n",
        "with open(\"/tmp/sarcasm.json\", 'r') as f:\n",
        "    datastore = json.load(f)\n",
        "\n",
        "\n",
        "sentences = []\n",
        "labels = []\n",
        "urls = []\n",
        "for item in datastore:\n",
        "    sentences.append(item['headline'])\n",
        "    labels.append(item['is_sarcastic'])\n",
        "\n",
        "training_sentences = sentences[0:training_size]\n",
        "testing_sentences = sentences[training_size:]\n",
        "training_labels = labels[0:training_size]\n",
        "testing_labels = labels[training_size:]\n",
        "\n",
        "tokenizer = Tokenizer(num_words=vocab_size, oov_token=oov_tok)\n",
        "tokenizer.fit_on_texts(training_sentences)\n",
        "\n",
        "word_index = tokenizer.word_index\n",
        "\n",
        "training_sequences = tokenizer.texts_to_sequences(training_sentences)\n",
        "training_padded = pad_sequences(training_sequences, maxlen=max_length, padding=padding_type, truncating=trunc_type)\n",
        "\n",
        "testing_sequences = tokenizer.texts_to_sequences(testing_sentences)\n",
        "testing_padded = pad_sequences(testing_sequences, maxlen=max_length, padding=padding_type, truncating=trunc_type)\n",
        "\n",
        "model = tf.keras.Sequential([\n",
        "    tf.keras.layers.Embedding(vocab_size, embedding_dim, input_length=max_length),\n",
        "    tf.keras.layers.Bidirectional(tf.keras.layers.LSTM(32)),\n",
        "    tf.keras.layers.Dense(24, activation='relu'),\n",
        "    tf.keras.layers.Dense(1, activation='sigmoid')\n",
        "])\n",
        "model.compile(loss='binary_crossentropy',optimizer='adam',metrics=['accuracy'])\n",
        "model.summary()\n",
        "\n",
        "num_epochs = 50\n",
        "training_padded = np.array(training_padded)\n",
        "training_labels = np.array(training_labels)\n",
        "testing_padded = np.array(testing_padded)\n",
        "testing_labels = np.array(testing_labels)\n",
        "history = model.fit(training_padded, training_labels, epochs=num_epochs, validation_data=(testing_padded, testing_labels), verbose=1)\n"
      ],
      "execution_count": 1,
      "outputs": [
        {
          "output_type": "stream",
          "text": [
            "--2020-09-17 14:21:08--  https://storage.googleapis.com/laurencemoroney-blog.appspot.com/sarcasm.json\n",
            "Resolving storage.googleapis.com (storage.googleapis.com)... 108.177.119.128, 108.177.126.128, 108.177.127.128, ...\n",
            "Connecting to storage.googleapis.com (storage.googleapis.com)|108.177.119.128|:443... connected.\n",
            "HTTP request sent, awaiting response... 200 OK\n",
            "Length: 5643545 (5.4M) [application/json]\n",
            "Saving to: ‘/tmp/sarcasm.json’\n",
            "\n",
            "/tmp/sarcasm.json   100%[===================>]   5.38M  18.7MB/s    in 0.3s    \n",
            "\n",
            "2020-09-17 14:21:09 (18.7 MB/s) - ‘/tmp/sarcasm.json’ saved [5643545/5643545]\n",
            "\n",
            "Model: \"sequential\"\n",
            "_________________________________________________________________\n",
            "Layer (type)                 Output Shape              Param #   \n",
            "=================================================================\n",
            "embedding (Embedding)        (None, 120, 16)           16000     \n",
            "_________________________________________________________________\n",
            "bidirectional (Bidirectional (None, 64)                12544     \n",
            "_________________________________________________________________\n",
            "dense (Dense)                (None, 24)                1560      \n",
            "_________________________________________________________________\n",
            "dense_1 (Dense)              (None, 1)                 25        \n",
            "=================================================================\n",
            "Total params: 30,129\n",
            "Trainable params: 30,129\n",
            "Non-trainable params: 0\n",
            "_________________________________________________________________\n",
            "Epoch 1/50\n",
            "625/625 [==============================] - 8s 13ms/step - loss: 0.4544 - accuracy: 0.7707 - val_loss: 0.3923 - val_accuracy: 0.8179\n",
            "Epoch 2/50\n",
            "625/625 [==============================] - 7s 12ms/step - loss: 0.3590 - accuracy: 0.8353 - val_loss: 0.3821 - val_accuracy: 0.8281\n",
            "Epoch 3/50\n",
            "625/625 [==============================] - 8s 12ms/step - loss: 0.3413 - accuracy: 0.8445 - val_loss: 0.3763 - val_accuracy: 0.8293\n",
            "Epoch 4/50\n",
            "625/625 [==============================] - 8s 12ms/step - loss: 0.3261 - accuracy: 0.8530 - val_loss: 0.3747 - val_accuracy: 0.8310\n",
            "Epoch 5/50\n",
            "625/625 [==============================] - 7s 12ms/step - loss: 0.3130 - accuracy: 0.8611 - val_loss: 0.3862 - val_accuracy: 0.8204\n",
            "Epoch 6/50\n",
            "625/625 [==============================] - 7s 12ms/step - loss: 0.2999 - accuracy: 0.8652 - val_loss: 0.3772 - val_accuracy: 0.8313\n",
            "Epoch 7/50\n",
            "625/625 [==============================] - 7s 12ms/step - loss: 0.2917 - accuracy: 0.8691 - val_loss: 0.3811 - val_accuracy: 0.8346\n",
            "Epoch 8/50\n",
            "625/625 [==============================] - 8s 12ms/step - loss: 0.2818 - accuracy: 0.8763 - val_loss: 0.3868 - val_accuracy: 0.8275\n",
            "Epoch 9/50\n",
            "625/625 [==============================] - 7s 12ms/step - loss: 0.2717 - accuracy: 0.8814 - val_loss: 0.3826 - val_accuracy: 0.8319\n",
            "Epoch 10/50\n",
            "625/625 [==============================] - 7s 12ms/step - loss: 0.2631 - accuracy: 0.8868 - val_loss: 0.4084 - val_accuracy: 0.8305\n",
            "Epoch 11/50\n",
            "625/625 [==============================] - 7s 12ms/step - loss: 0.2556 - accuracy: 0.8893 - val_loss: 0.3971 - val_accuracy: 0.8278\n",
            "Epoch 12/50\n",
            "625/625 [==============================] - 8s 12ms/step - loss: 0.2471 - accuracy: 0.8922 - val_loss: 0.4039 - val_accuracy: 0.8292\n",
            "Epoch 13/50\n",
            "625/625 [==============================] - 7s 12ms/step - loss: 0.2422 - accuracy: 0.8965 - val_loss: 0.4245 - val_accuracy: 0.8272\n",
            "Epoch 14/50\n",
            "625/625 [==============================] - 7s 12ms/step - loss: 0.2345 - accuracy: 0.8995 - val_loss: 0.4482 - val_accuracy: 0.8262\n",
            "Epoch 15/50\n",
            "625/625 [==============================] - 7s 12ms/step - loss: 0.2274 - accuracy: 0.9031 - val_loss: 0.4554 - val_accuracy: 0.8258\n",
            "Epoch 16/50\n",
            "625/625 [==============================] - 7s 12ms/step - loss: 0.2199 - accuracy: 0.9057 - val_loss: 0.4725 - val_accuracy: 0.8204\n",
            "Epoch 17/50\n",
            "625/625 [==============================] - 8s 12ms/step - loss: 0.2153 - accuracy: 0.9079 - val_loss: 0.4754 - val_accuracy: 0.8179\n",
            "Epoch 18/50\n",
            "625/625 [==============================] - 8s 12ms/step - loss: 0.2102 - accuracy: 0.9122 - val_loss: 0.4997 - val_accuracy: 0.8204\n",
            "Epoch 19/50\n",
            "625/625 [==============================] - 7s 12ms/step - loss: 0.2050 - accuracy: 0.9132 - val_loss: 0.5222 - val_accuracy: 0.8126\n",
            "Epoch 20/50\n",
            "625/625 [==============================] - 7s 12ms/step - loss: 0.2003 - accuracy: 0.9153 - val_loss: 0.5622 - val_accuracy: 0.8167\n",
            "Epoch 21/50\n",
            "625/625 [==============================] - 8s 12ms/step - loss: 0.1895 - accuracy: 0.9216 - val_loss: 0.5513 - val_accuracy: 0.8195\n",
            "Epoch 22/50\n",
            "625/625 [==============================] - 7s 12ms/step - loss: 0.1852 - accuracy: 0.9226 - val_loss: 0.5786 - val_accuracy: 0.8226\n",
            "Epoch 23/50\n",
            "625/625 [==============================] - 7s 12ms/step - loss: 0.1810 - accuracy: 0.9241 - val_loss: 0.5841 - val_accuracy: 0.8092\n",
            "Epoch 24/50\n",
            "625/625 [==============================] - 7s 12ms/step - loss: 0.1744 - accuracy: 0.9269 - val_loss: 0.6067 - val_accuracy: 0.8082\n",
            "Epoch 25/50\n",
            "625/625 [==============================] - 8s 12ms/step - loss: 0.1687 - accuracy: 0.9305 - val_loss: 0.6574 - val_accuracy: 0.8116\n",
            "Epoch 26/50\n",
            "625/625 [==============================] - 8s 12ms/step - loss: 0.1604 - accuracy: 0.9331 - val_loss: 0.7054 - val_accuracy: 0.8110\n",
            "Epoch 27/50\n",
            "625/625 [==============================] - 7s 12ms/step - loss: 0.1589 - accuracy: 0.9359 - val_loss: 0.7017 - val_accuracy: 0.8147\n",
            "Epoch 28/50\n",
            "625/625 [==============================] - 7s 12ms/step - loss: 0.1508 - accuracy: 0.9390 - val_loss: 0.7451 - val_accuracy: 0.8120\n",
            "Epoch 29/50\n",
            "625/625 [==============================] - 8s 12ms/step - loss: 0.1427 - accuracy: 0.9423 - val_loss: 0.8219 - val_accuracy: 0.8113\n",
            "Epoch 30/50\n",
            "625/625 [==============================] - 8s 12ms/step - loss: 0.1392 - accuracy: 0.9438 - val_loss: 0.8574 - val_accuracy: 0.8100\n",
            "Epoch 31/50\n",
            "625/625 [==============================] - 7s 12ms/step - loss: 0.1325 - accuracy: 0.9467 - val_loss: 0.8187 - val_accuracy: 0.8104\n",
            "Epoch 32/50\n",
            "625/625 [==============================] - 7s 12ms/step - loss: 0.1299 - accuracy: 0.9487 - val_loss: 0.8635 - val_accuracy: 0.8064\n",
            "Epoch 33/50\n",
            "625/625 [==============================] - 7s 12ms/step - loss: 0.1219 - accuracy: 0.9502 - val_loss: 0.9116 - val_accuracy: 0.8114\n",
            "Epoch 34/50\n",
            "625/625 [==============================] - 8s 12ms/step - loss: 0.1161 - accuracy: 0.9528 - val_loss: 1.0006 - val_accuracy: 0.8119\n",
            "Epoch 35/50\n",
            "625/625 [==============================] - 7s 12ms/step - loss: 0.1096 - accuracy: 0.9563 - val_loss: 1.0247 - val_accuracy: 0.8117\n",
            "Epoch 36/50\n",
            "625/625 [==============================] - 7s 12ms/step - loss: 0.1095 - accuracy: 0.9557 - val_loss: 1.0392 - val_accuracy: 0.8035\n",
            "Epoch 37/50\n",
            "625/625 [==============================] - 7s 12ms/step - loss: 0.1081 - accuracy: 0.9560 - val_loss: 0.9868 - val_accuracy: 0.8077\n",
            "Epoch 38/50\n",
            "625/625 [==============================] - 7s 12ms/step - loss: 0.0964 - accuracy: 0.9604 - val_loss: 1.1125 - val_accuracy: 0.8088\n",
            "Epoch 39/50\n",
            "625/625 [==============================] - 8s 12ms/step - loss: 0.0898 - accuracy: 0.9627 - val_loss: 1.1554 - val_accuracy: 0.8030\n",
            "Epoch 40/50\n",
            "625/625 [==============================] - 8s 12ms/step - loss: 0.0846 - accuracy: 0.9657 - val_loss: 1.2964 - val_accuracy: 0.8058\n",
            "Epoch 41/50\n",
            "625/625 [==============================] - 7s 12ms/step - loss: 0.0918 - accuracy: 0.9621 - val_loss: 1.3157 - val_accuracy: 0.8000\n",
            "Epoch 42/50\n",
            "625/625 [==============================] - 8s 12ms/step - loss: 0.0864 - accuracy: 0.9638 - val_loss: 1.3142 - val_accuracy: 0.7976\n",
            "Epoch 43/50\n",
            "625/625 [==============================] - 7s 12ms/step - loss: 0.0817 - accuracy: 0.9668 - val_loss: 1.3976 - val_accuracy: 0.7980\n",
            "Epoch 44/50\n",
            "625/625 [==============================] - 8s 12ms/step - loss: 0.0764 - accuracy: 0.9689 - val_loss: 1.3548 - val_accuracy: 0.7994\n",
            "Epoch 45/50\n",
            "625/625 [==============================] - 7s 12ms/step - loss: 0.0802 - accuracy: 0.9666 - val_loss: 1.3922 - val_accuracy: 0.7968\n",
            "Epoch 46/50\n",
            "625/625 [==============================] - 7s 12ms/step - loss: 0.0747 - accuracy: 0.9711 - val_loss: 1.4387 - val_accuracy: 0.8034\n",
            "Epoch 47/50\n",
            "625/625 [==============================] - 7s 12ms/step - loss: 0.0649 - accuracy: 0.9732 - val_loss: 1.5632 - val_accuracy: 0.7967\n",
            "Epoch 48/50\n",
            "625/625 [==============================] - 7s 12ms/step - loss: 0.0648 - accuracy: 0.9740 - val_loss: 1.5431 - val_accuracy: 0.8067\n",
            "Epoch 49/50\n",
            "625/625 [==============================] - 7s 12ms/step - loss: 0.0681 - accuracy: 0.9729 - val_loss: 1.5589 - val_accuracy: 0.7930\n",
            "Epoch 50/50\n",
            "625/625 [==============================] - 8s 12ms/step - loss: 0.0606 - accuracy: 0.9750 - val_loss: 1.5974 - val_accuracy: 0.8018\n"
          ],
          "name": "stdout"
        }
      ]
    },
    {
      "cell_type": "code",
      "metadata": {
        "colab_type": "code",
        "id": "g9DC6dmLF8DC",
        "colab": {
          "base_uri": "https://localhost:8080/",
          "height": 541
        },
        "outputId": "efa979c6-1ee0-469f-c41a-e58b87c8bbb4"
      },
      "source": [
        "import matplotlib.pyplot as plt\n",
        "\n",
        "\n",
        "def plot_graphs(history, string):\n",
        "  plt.plot(history.history[string])\n",
        "  plt.plot(history.history['val_'+string])\n",
        "  plt.xlabel(\"Epochs\")\n",
        "  plt.ylabel(string)\n",
        "  plt.legend([string, 'val_'+string])\n",
        "  plt.show()\n",
        "\n",
        "plot_graphs(history, 'accuracy')\n",
        "plot_graphs(history, 'loss')"
      ],
      "execution_count": 2,
      "outputs": [
        {
          "output_type": "display_data",
          "data": {
            "image/png": "[encoded data removed]",
            "text/plain": [
              "<Figure size 432x288 with 1 Axes>"
            ]
          },
          "metadata": {
            "tags": [],
            "needs_background": "light"
          }
        },
        {
          "output_type": "display_data",
          "data": {
            "image/png": "[encoded data removed]",
            "text/plain": [
              "<Figure size 432x288 with 1 Axes>"
            ]
          },
          "metadata": {
            "tags": [],
            "needs_background": "light"
          }
        }
      ]
    },
    {
      "cell_type": "code",
      "metadata": {
        "colab_type": "code",
        "id": "7ZEZIUppGhdi",
        "colab": {}
      },
      "source": [
        "model.save(\"test.h5\")"
      ],
      "execution_count": 3,
      "outputs": []
    },
    {
      "cell_type": "code",
      "metadata": {
        "id": "9b0Tmli2cJEK",
        "colab_type": "code",
        "colab": {}
      },
      "source": [
        ""
      ],
      "execution_count": null,
      "outputs": []
    }
  ]
}